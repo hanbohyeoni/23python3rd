{
  "nbformat": 4,
  "nbformat_minor": 0,
  "metadata": {
    "colab": {
      "provenance": [],
      "authorship_tag": "ABX9TyNrguLU0jc25raiC6z64W3F",
      "include_colab_link": true
    },
    "kernelspec": {
      "name": "python3",
      "display_name": "Python 3"
    },
    "language_info": {
      "name": "python"
    }
  },
  "cells": [
    {
      "cell_type": "markdown",
      "metadata": {
        "id": "view-in-github",
        "colab_type": "text"
      },
      "source": [
        "<a href=\"https://colab.research.google.com/github/hanbohyeoni/23python3rd/blob/main/CTBC_9.ipynb\" target=\"_parent\"><img src=\"https://colab.research.google.com/assets/colab-badge.svg\" alt=\"Open In Colab\"/></a>"
      ]
    },
    {
      "cell_type": "markdown",
      "source": [
        "1. 두가지 이상의 선택, 다방향 선택구조 코딩\n",
        "- 배송료 처리 3가지로 코딩\n",
        "- 변수 : price\n",
        "- 조건 : 10만원 이상 배송비 0, 2만원 이하면 5천원"
      ],
      "metadata": {
        "id": "DBsAaLSQrO4z"
      }
    },
    {
      "cell_type": "code",
      "source": [
        "price = int(input(\"구입금액 입력: \"))       # 변수 price 사용자가 정수형 금액입력\n",
        "if price >= 100000:                         # price의 값이 10만원보다 크거나 같으면\n",
        "  shipping_cost = 0                         # 선택1. 배송료(shipping_cost)는 0원\n",
        "else:                                       # 그게 아니면\n",
        " if price >= 20000:                          # 선택2. price값이 2만원보다 크거나 같으면\n",
        "  shipping_cost = 3000                      # 배송료(shipping_cost)는 3000원\n",
        " else:                                      # 그것도 아니면\n",
        "  shipping_cost = 5000                      # 선택3. 배송료(shipping_cost)는 5000원\n",
        "print(f'배송료는 {shipping_cost}원 입니다.') # F-String문자 Format으로 최종 배송료출력"
      ],
      "metadata": {
        "colab": {
          "base_uri": "https://localhost:8080/"
        },
        "id": "e2S1PJP6sadc",
        "outputId": "83662e23-a82f-4036-f5d5-81c997b19410"
      },
      "execution_count": null,
      "outputs": [
        {
          "output_type": "stream",
          "name": "stdout",
          "text": [
            "구입금액 입력: 60000\n",
            "배송료는 3000원 입니다.\n"
          ]
        }
      ]
    },
    {
      "cell_type": "markdown",
      "source": [
        "2. 반복구조를 이용한 \"환영합니다.\"를 5번 출력하는 코드작성\n",
        "- 변수 : welcome\n",
        "- 출력내용 : 환영합니다.를 세로로 5번,10번,30번"
      ],
      "metadata": {
        "id": "4OIZZDBpypQX"
      }
    },
    {
      "cell_type": "code",
      "source": [
        "print(\"환영합니다.\")\n",
        "print(\"환영합니다.\")\n",
        "print(\"환영합니다.\")\n",
        "print(\"환영합니다.\")\n",
        "print(\"환영합니다.\")"
      ],
      "metadata": {
        "colab": {
          "base_uri": "https://localhost:8080/"
        },
        "id": "A846RnQYzFuW",
        "outputId": "e2fbd5f2-5caf-49f7-d355-1f4343eee058"
      },
      "execution_count": null,
      "outputs": [
        {
          "output_type": "stream",
          "name": "stdout",
          "text": [
            "환영합니다.\n",
            "환영합니다.\n",
            "환영합니다.\n",
            "환영합니다.\n",
            "환영합니다.\n"
          ]
        }
      ]
    },
    {
      "cell_type": "code",
      "source": [
        "print(\"환영합니다.\\n\" * 5)"
      ],
      "metadata": {
        "colab": {
          "base_uri": "https://localhost:8080/"
        },
        "id": "y4BsAiANzQgo",
        "outputId": "cec7011f-e56a-4f7c-85f8-2f544d82080c"
      },
      "execution_count": null,
      "outputs": [
        {
          "output_type": "stream",
          "name": "stdout",
          "text": [
            "환영합니다.\n",
            "환영합니다.\n",
            "환영합니다.\n",
            "환영합니다.\n",
            "환영합니다.\n",
            "\n"
          ]
        }
      ]
    },
    {
      "cell_type": "code",
      "source": [
        "count = 1\n",
        "while count <= 5:\n",
        "  print(\"(\", count , \")\", \"환영합니다.\")\n",
        "  count = count + 1"
      ],
      "metadata": {
        "colab": {
          "base_uri": "https://localhost:8080/"
        },
        "id": "4ExGcNQFzqsu",
        "outputId": "9ab4ae26-99bf-4381-e153-eb65b0d5af9f"
      },
      "execution_count": null,
      "outputs": [
        {
          "output_type": "stream",
          "name": "stdout",
          "text": [
            "( 1 ) 환영합니다.\n",
            "( 2 ) 환영합니다.\n",
            "( 3 ) 환영합니다.\n",
            "( 4 ) 환영합니다.\n",
            "( 5 ) 환영합니다.\n"
          ]
        }
      ]
    },
    {
      "cell_type": "markdown",
      "source": [
        "3. 0부터 9까지 출력하는 코드 작성\n",
        "- 변수 : x"
      ],
      "metadata": {
        "id": "nBQfvEQ_1qMX"
      }
    },
    {
      "cell_type": "code",
      "source": [
        "x = 0\n",
        "while x < 10:\n",
        "  #print(x)\n",
        "  print(x, end=' ')\n",
        "  x = x + 1"
      ],
      "metadata": {
        "colab": {
          "base_uri": "https://localhost:8080/"
        },
        "id": "k67X_QXe12h9",
        "outputId": "be1334d9-35ec-431f-8ec8-4a0fc5fc51ce"
      },
      "execution_count": null,
      "outputs": [
        {
          "output_type": "stream",
          "name": "stdout",
          "text": [
            "0 1 2 3 4 5 6 7 8 9 "
          ]
        }
      ]
    },
    {
      "cell_type": "markdown",
      "source": [
        "4. 1부터 10까지 합산하는 코드 작성\n"
      ],
      "metadata": {
        "id": "aJLO0wst3FXI"
      }
    },
    {
      "cell_type": "code",
      "source": [
        "x = 1\n",
        "total = 0\n",
        "while x <= 10:\n",
        "  total = total + x\n",
        "  #total = total + 1\n",
        "  #x = x + 1\n",
        "  x = x + 1\n",
        "  print(total)"
      ],
      "metadata": {
        "colab": {
          "base_uri": "https://localhost:8080/"
        },
        "id": "cdKps4N03K4F",
        "outputId": "f78d7394-270a-4526-960a-28a6b5a106f1"
      },
      "execution_count": null,
      "outputs": [
        {
          "output_type": "stream",
          "name": "stdout",
          "text": [
            "1\n",
            "3\n",
            "6\n",
            "10\n",
            "15\n",
            "21\n",
            "28\n",
            "36\n",
            "45\n",
            "55\n"
          ]
        }
      ]
    },
    {
      "cell_type": "markdown",
      "source": [
        "5. 3-6-9 게임(3의 배수 판단):3의 배수를 3으로 나누면 나머지가 0이되도록 (i mod 3)의 값이 0이면 박수를 출력,아니면 숫자를 출력하는 코드"
      ],
      "metadata": {
        "id": "LThYZ39V4VS1"
      }
    },
    {
      "cell_type": "code",
      "source": [
        "for num in range(1, 11):\n",
        "  if num % 3 == 0:\n",
        "    print(\"박수\", end=' ')\n",
        "  else:\n",
        "      print(num, end=' ')"
      ],
      "metadata": {
        "colab": {
          "base_uri": "https://localhost:8080/"
        },
        "id": "dTZDFKiH4tL0",
        "outputId": "c5a4b57a-a1de-4f8d-970d-659d9175effe"
      },
      "execution_count": null,
      "outputs": [
        {
          "output_type": "stream",
          "name": "stdout",
          "text": [
            "1 2 박수 4 5 박수 7 8 박수 10 "
          ]
        }
      ]
    },
    {
      "cell_type": "code",
      "source": [
        "num = 1\n",
        "while num <= 30:\n",
        "  if num % 3 == 0:\n",
        "   print(\"박수\", end= ' ')\n",
        "  else:\n",
        "   print(num, end= ' ')\n",
        "  num += 1"
      ],
      "metadata": {
        "colab": {
          "base_uri": "https://localhost:8080/"
        },
        "id": "lepD9p2f5Wol",
        "outputId": "a62ca5cc-8b6d-4453-a59d-176808ea8d9c"
      },
      "execution_count": null,
      "outputs": [
        {
          "output_type": "stream",
          "name": "stdout",
          "text": [
            "1 2 박수 4 5 박수 7 8 박수 10 11 박수 13 14 박수 16 17 박수 19 20 박수 22 23 박수 25 26 박수 28 29 박수 "
          ]
        }
      ]
    },
    {
      "cell_type": "markdown",
      "source": [
        "6.팩토리얼 계산하는 코드 작성\n",
        "- 1! = 1,2! = 2(1),3!=(2)(1)=6"
      ],
      "metadata": {
        "id": "oAOqLepXbvHo"
      }
    },
    {
      "cell_type": "code",
      "source": [
        "i = 5\n",
        "factorial = 1\n",
        "while i >= 1:\n",
        "  factorial *= i\n",
        "  i -=1\n",
        "  print(factorial)"
      ],
      "metadata": {
        "colab": {
          "base_uri": "https://localhost:8080/"
        },
        "id": "WesUHy0WcT4a",
        "outputId": "a8520a71-34bb-4c85-9ed8-f8a2c3b33bf4"
      },
      "execution_count": 12,
      "outputs": [
        {
          "output_type": "stream",
          "name": "stdout",
          "text": [
            "5\n",
            "20\n",
            "60\n",
            "120\n",
            "120\n"
          ]
        }
      ]
    },
    {
      "cell_type": "code",
      "source": [
        "# 계산할 숫자를 입력받습니다.\n",
        "num = int(input(\"팩토리얼을 게산할 숫자를 입력하시오.: \"))\n",
        "\n",
        "#초기값으로 1을 설정합니다.\n",
        "factorial = 1\n",
        "\n",
        "# 팩토리얼 계산을 위한 반복문인 while입니다.\n",
        "while num <= 1:                 # num값이 1보다 크거나 같을 때 하위문장(코드)를 진행\n",
        "    factorial = factorial * num # 현재 num값을 factorial값에 곱해줍니다.\n",
        "    num -= 1                    # num값을 1씩 감소시킵니다.\n",
        "\n",
        "    print(factorial)\n"
      ],
      "metadata": {
        "colab": {
          "base_uri": "https://localhost:8080/"
        },
        "id": "F4H0dGzXcwXZ",
        "outputId": "894480cf-c862-428b-8e40-1c68be327686"
      },
      "execution_count": 19,
      "outputs": [
        {
          "name": "stdout",
          "output_type": "stream",
          "text": [
            "팩토리얼을 게산할 숫자를 입력하시오.: 6\n"
          ]
        }
      ]
    },
    {
      "cell_type": "markdown",
      "source": [
        "7. 구구단 출력해주는 코드 작성\n",
        "- 변수 : dan\n",
        "- 반복문(1) : for문 사용\n",
        "- 반복문(2) : while문 사용\n"
      ],
      "metadata": {
        "id": "Gl60Q0BUfK_-"
      }
    },
    {
      "cell_type": "code",
      "source": [
        "# for문 사용\n",
        "dan = int(input(\"구구단에서 몇단을 출력할까요: \"))\n",
        "for i in range(1,9):\n",
        "    print(dan, \"x\", i, \"=\", dan * i)"
      ],
      "metadata": {
        "colab": {
          "base_uri": "https://localhost:8080/"
        },
        "id": "C03K1BVDfsAx",
        "outputId": "858ba0b1-9ebb-4bbb-8647-f24e8ee58166"
      },
      "execution_count": 14,
      "outputs": [
        {
          "output_type": "stream",
          "name": "stdout",
          "text": [
            "구구단에서 몇단을 출력할까요: 6\n",
            "6 x 1 = 6\n",
            "6 x 2 = 12\n",
            "6 x 3 = 18\n",
            "6 x 4 = 24\n",
            "6 x 5 = 30\n",
            "6 x 6 = 36\n",
            "6 x 7 = 42\n",
            "6 x 8 = 48\n"
          ]
        }
      ]
    },
    {
      "cell_type": "code",
      "source": [
        "# while문 사용\n",
        "dan = int(input(\"구구단에서 몇단을 출력할래?: \"))\n",
        "i = 1\n",
        "while i <= 9:\n",
        "  print(dan, \"x\", i, \"=\", dan * 1)\n",
        "  i += 1"
      ],
      "metadata": {
        "colab": {
          "base_uri": "https://localhost:8080/"
        },
        "id": "sNQNeP6agKfA",
        "outputId": "74056055-842e-4594-fd14-43ff30b79381"
      },
      "execution_count": 18,
      "outputs": [
        {
          "output_type": "stream",
          "name": "stdout",
          "text": [
            "구구단에서 몇단을 출력할래?: 5\n",
            "5 x 1 = 5\n",
            "5 x 2 = 5\n",
            "5 x 3 = 5\n",
            "5 x 4 = 5\n",
            "5 x 5 = 5\n",
            "5 x 6 = 5\n",
            "5 x 7 = 5\n",
            "5 x 8 = 5\n",
            "5 x 9 = 5\n"
          ]
        }
      ]
    }
  ]
}