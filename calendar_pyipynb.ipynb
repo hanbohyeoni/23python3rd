{
  "nbformat": 4,
  "nbformat_minor": 0,
  "metadata": {
    "colab": {
      "provenance": [],
      "authorship_tag": "ABX9TyOZ9uwp28KpMwOBpc7Rs/T4",
      "include_colab_link": true
    },
    "kernelspec": {
      "name": "python3",
      "display_name": "Python 3"
    },
    "language_info": {
      "name": "python"
    }
  },
  "cells": [
    {
      "cell_type": "markdown",
      "metadata": {
        "id": "view-in-github",
        "colab_type": "text"
      },
      "source": [
        "<a href=\"https://colab.research.google.com/github/hanbohyeoni/23python3rd/blob/main/calendar_pyipynb.ipynb\" target=\"_parent\"><img src=\"https://colab.research.google.com/assets/colab-badge.svg\" alt=\"Open In Colab\"/></a>"
      ]
    },
    {
      "cell_type": "code",
      "execution_count": 5,
      "metadata": {
        "colab": {
          "base_uri": "https://localhost:8080/"
        },
        "id": "Rteuz6l9Y8yT",
        "outputId": "75957fc4-41df-4458-bc1b-737332ebe351"
      },
      "outputs": [
        {
          "output_type": "stream",
          "name": "stdout",
          "text": [
            "    October 2023\n",
            "Mo Tu We Th Fr Sa Su\n",
            "                   1\n",
            " 2  3  4  5  6  7  8\n",
            " 9 10 11 12 13 14 15\n",
            "16 17 18 19 20 21 22\n",
            "23 24 25 26 27 28 29\n",
            "30 31\n",
            "\n"
          ]
        }
      ],
      "source": [
        "import calendar\n",
        "yy = 2023   #year\n",
        "mm = 10   #month\n",
        "# display the calendar\n",
        "print(calendar.month(yy,mm))"
      ]
    },
    {
      "cell_type": "markdown",
      "source": [
        "2023년 10월 19일 to do list\n",
        "- 9:00-11:00 컴퓨팅적 사고와 기초코딩 수업\n",
        "- 11:00-12:00 아동건강교육 수업\n",
        "- 12:00-12:20 집으로 귀가\n",
        "- 12:20-1:00 점심식사\n",
        "- 1:00-4:00 시험 공부\n",
        "- 5:00-9:00 알바\n",
        "- 9:20-2:00 시험 공부"
      ],
      "metadata": {
        "id": "Q-eIXaiea0Nf"
      }
    },
    {
      "cell_type": "code",
      "source": [
        "print (\"2023년 10월 19일 to do list\")\n",
        "print (\"9:00-11:00 컴퓨팅적 사고와 기초코딩 수업\")\n",
        "print (\"11:00-12:00 아동건강교육 수업\")\n",
        "print (\"12:00-12:20 집으로 귀가\")\n",
        "print (\"12:20-1:00 점심식사\")\n",
        "print (\"1:00-4:00 시험 공부\")\n",
        "print (\"5:00-9:00 알바\")\n",
        "print (\"9:00-2:00 시험 공부\")"
      ],
      "metadata": {
        "colab": {
          "base_uri": "https://localhost:8080/"
        },
        "id": "S99SiC_4dY3V",
        "outputId": "0655eaf6-b705-4247-dd7e-a9785a08e3ee"
      },
      "execution_count": 9,
      "outputs": [
        {
          "output_type": "stream",
          "name": "stdout",
          "text": [
            "2023년 10월 19일 to do list\n",
            "9:00-11:00 컴퓨팅적 사고와 기초코딩 수업\n",
            "11:00-12:00 아동건강교육 수업\n",
            "12:00-12:20 집으로 귀가\n",
            "12:20-1:00 점심식사\n",
            "1:00-4:00 시험 공부\n",
            "5:00-9:00 알바\n",
            "9:00-2:00 시험 공부\n"
          ]
        }
      ]
    }
  ]
}