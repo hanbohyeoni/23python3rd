{
  "nbformat": 4,
  "nbformat_minor": 0,
  "metadata": {
    "colab": {
      "provenance": [],
      "authorship_tag": "ABX9TyOxfMub+ePY1fDUS5xksJiw",
      "include_colab_link": true
    },
    "kernelspec": {
      "name": "python3",
      "display_name": "Python 3"
    },
    "language_info": {
      "name": "python"
    }
  },
  "cells": [
    {
      "cell_type": "markdown",
      "metadata": {
        "id": "view-in-github",
        "colab_type": "text"
      },
      "source": [
        "<a href=\"https://colab.research.google.com/github/hanbohyeoni/23python3rd/blob/main/CTBA_1.ipynb\" target=\"_parent\"><img src=\"https://colab.research.google.com/assets/colab-badge.svg\" alt=\"Open In Colab\"/></a>"
      ]
    },
    {
      "cell_type": "markdown",
      "source": [
        "1. 쇼핑몰의 배송료를 계산하는 코드 작성\n",
        "- 사용하는 변수  : price, shipping_cost\n"
      ],
      "metadata": {
        "id": "QlK_5cbccevu"
      }
    },
    {
      "cell_type": "code",
      "source": [
        "print (\"상품의 가격을 입력하시오.\")\n",
        "price = int(input(\"구입 금액을 입력: \"))\n",
        "if price > 20000:\n",
        "  shipping_cos = 0\n",
        "  print(f'구입금액이 2만원 이상입니다.')\n",
        "else:\n",
        "  shipping_cost = 3000\n",
        "  print(f'구입금액이 2만원 이하입니다.')\n",
        "print (f'회원님의 배송비는 (shipping_cost)원 입니다.')"
      ],
      "metadata": {
        "colab": {
          "base_uri": "https://localhost:8080/"
        },
        "id": "yZYSE39Tc25M",
        "outputId": "839c33a1-2123-4132-dfa9-33b0e477d8f9"
      },
      "execution_count": 9,
      "outputs": [
        {
          "output_type": "stream",
          "name": "stdout",
          "text": [
            "상품의 가격을 입력하시오.\n",
            "구입 금액을 입력: 900000\n",
            "구입금액이 2만원 이상입니다.\n",
            "회원님의 배송비는 (shipping_cost)원 입니다.\n"
          ]
        }
      ]
    },
    {
      "cell_type": "markdown",
      "source": [
        "2. 학생으로부터 성적을 입력받아 합격 유무를 출력하는 코드\n",
        "- 사용변수는:grade"
      ],
      "metadata": {
        "id": "esdlZPxegr7u"
      }
    },
    {
      "cell_type": "code",
      "source": [
        "print(\"성적을 입력하시오.\")\n",
        "grade = int (input(\"성적입력: \"))\n",
        "if grade >=70:\n",
        "  print('70점 이상이므로 합격입니다.')\n",
        "  print('축하합니다, 합격입니다.')\n",
        "else:\n",
        "    print(f'70점 이하이므로 불합격입니다.')\n",
        "    print('아쉽군요, 다시 한번 도전하세요.')\n",
        ""
      ],
      "metadata": {
        "colab": {
          "base_uri": "https://localhost:8080/"
        },
        "id": "GZiQTs-GhFvE",
        "outputId": "5840763b-45e3-4a7d-8baf-50b2651c2cad"
      },
      "execution_count": 4,
      "outputs": [
        {
          "output_type": "stream",
          "name": "stdout",
          "text": [
            "성적을 입력하시오.\n",
            "성적입력: 80\n",
            "70점 이상이므로 합격입니다.\n",
            "축하합니다, 합격입니다.\n"
          ]
        }
      ]
    },
    {
      "cell_type": "markdown",
      "source": [
        "3.근무시간에 따라 초과근무와 정상근무를 판별하는 코드\n",
        "- work_hour\n",
        "- 코드 work_hour>72"
      ],
      "metadata": {
        "id": "hYqifaZWiKEl"
      }
    },
    {
      "cell_type": "code",
      "source": [
        "print(\"근무시간을 입력하시오.\")\n",
        "work_hour = int (input('근무시간 입력: '))\n",
        "if work_hour > 72:\n",
        "  print(f'초과근무입니다.')\n",
        "else:\n",
        "  print(f'정상근무입니다.')"
      ],
      "metadata": {
        "colab": {
          "base_uri": "https://localhost:8080/"
        },
        "id": "NMqKMLXtieiM",
        "outputId": "22411dd9-1abc-4f87-96b7-e66a75ed00c1"
      },
      "execution_count": 21,
      "outputs": [
        {
          "output_type": "stream",
          "name": "stdout",
          "text": [
            "근무시간을 입력하시오.\n",
            "근무시간 입력: 80\n",
            "초과근무입니다.\n"
          ]
        }
      ]
    },
    {
      "cell_type": "markdown",
      "source": [
        "4.짝수와 홀수를 판별하는 코드\n",
        "- 사용변수 : _num_\n",
        "- 수식 : (x % 2) != 0:\n"
      ],
      "metadata": {
        "id": "yq9vTIuvmB1b"
      }
    },
    {
      "cell_type": "code",
      "source": [
        "print(\"정수를 입력하시오.\")\n",
        "_num_ = int(input(\"정수 입력: \"))\n",
        "if (_num_ % 2) != 0:\n",
        "  print(f'입력하신 {_num_}은 홀수입니다.')\n",
        "else:\n",
        "  print(f'입력하신 {_num_}은 짝수입니다.')\n",
        ""
      ],
      "metadata": {
        "colab": {
          "base_uri": "https://localhost:8080/"
        },
        "id": "6PGZvwWjmdP-",
        "outputId": "960950c9-c913-448b-f45d-54638a360f08"
      },
      "execution_count": 22,
      "outputs": [
        {
          "output_type": "stream",
          "name": "stdout",
          "text": [
            "정수를 입력하시오.\n",
            "정수 입력: 9\n",
            "입력하신 9은 홀수입니다.\n"
          ]
        }
      ]
    },
    {
      "cell_type": "markdown",
      "source": [
        "5. 사용자의 이름과 나이를 물어보고, 답변하는 코드\n",
        "- 사용변수: name, age\n",
        "- 출력할 내용:\n",
        "- 성명:\n",
        "- 나이: 20\n",
        "- (1) 20이하: 프로그래밍을 배우는 최적의 나이입니다.\n",
        "- (2) 20이상: 아직도 늦지 않았습니다."
      ],
      "metadata": {
        "id": "tp65Rz0uno1L"
      }
    },
    {
      "cell_type": "code",
      "source": [
        "print(\"사용자의 이름과 나이를 입력하시오.\")\n",
        "name = input(\"이름입력: \")\n",
        "age = int(input(\"나이 입력: \"))\n",
        "if age > 20:\n",
        " print(f'아직도 늦지 않았습니다.')\n",
        "else:\n",
        " print(f'프로그래밍을 배우는 최적의 나이입니다.')"
      ],
      "metadata": {
        "colab": {
          "base_uri": "https://localhost:8080/"
        },
        "id": "o2hGoaPeoaDa",
        "outputId": "e7ad4b8e-4499-4f86-9629-3732ab048775"
      },
      "execution_count": 26,
      "outputs": [
        {
          "output_type": "stream",
          "name": "stdout",
          "text": [
            "사용자의 이름과 나이를 입력하시오.\n",
            "이름입력: 한보현\n",
            "나이 입력: 20\n",
            "프로그래밍을 배우는 최적의 나이입니다.\n"
          ]
        }
      ]
    }
  ]
}