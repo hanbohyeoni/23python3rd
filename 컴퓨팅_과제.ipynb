{
  "nbformat": 4,
  "nbformat_minor": 0,
  "metadata": {
    "colab": {
      "provenance": [],
      "name": "컴퓨팅 과제",
      "authorship_tag": "ABX9TyOwpKJPV27GXD6yE+ZgW+6d",
      "include_colab_link": true
    },
    "kernelspec": {
      "name": "python3",
      "display_name": "Python 3"
    },
    "language_info": {
      "name": "python"
    }
  },
  "cells": [
    {
      "cell_type": "markdown",
      "metadata": {
        "id": "view-in-github",
        "colab_type": "text"
      },
      "source": [
        "<a href=\"https://colab.research.google.com/github/hanbohyeoni/23python3rd/blob/main/%EC%BB%B4%ED%93%A8%ED%8C%85_%EA%B3%BC%EC%A0%9C.ipynb\" target=\"_parent\"><img src=\"https://colab.research.google.com/assets/colab-badge.svg\" alt=\"Open In Colab\"/></a>"
      ]
    },
    {
      "cell_type": "code",
      "execution_count": null,
      "metadata": {
        "id": "5x0n9cHntFZ6"
      },
      "outputs": [],
      "source": [
        "# \"Hello World\" 문자열을 출력하는 코드입니다.\n",
        "print(\"Hello World\")\n",
        "\n",
        "# SyntaxError가 발생하는 코드입니다. 문자열은 따옴표로 감싸주어야 합니다.\n",
        "#\"Hello World\"\n",
        "\n",
        "# 작은 따옴표로 감싼 \"Hello World\" 문자열을 출력하는 코드입니다.\n",
        "print('Hello World')\n",
        "\n",
        "# 4와 4를 더한 결과를 출력하는 코드입니다.\n",
        "print(4+4)\n",
        "\n",
        "# SyntaxError가 발생하는 코드입니다. 문자열은 따옴표로 감싸주어야 합니다.\n",
        "#Hello World"
      ]
    },
    {
      "cell_type": "markdown",
      "source": [
        "첫 번째 줄은 \"Hello World\"를 출력하는 코드입니다. 두 번째 줄과 세 번째 줄은 각각 큰 따옴표와 작은 따옴표로 둘러싸인 문자열 \"Hello World\"를 나타냅니다. 마지막 줄은 4와 4를 더한 결과인 8을 출력하는 코드입니다."
      ],
      "metadata": {
        "id": "t5gWbPyHuv-2"
      }
    },
    {
      "cell_type": "code",
      "source": [
        "import calendar\n",
        "\n",
        "yy = 2023   # 연도\n",
        "mm = 10   # 월\n",
        "\n",
        "# 달력 출력\n",
        "print(calendar.month(yy, mm))"
      ],
      "metadata": {
        "id": "vJjRfQyKtM9K"
      },
      "execution_count": null,
      "outputs": []
    },
    {
      "cell_type": "markdown",
      "source": [
        "이 코드는 calendar 모듈을 사용하여 특정 연도와 월에 해당하는 달력을 출력하는 코드입니다. yy 변수에는 연도를, mm 변수에는 월을 설정하고, calendar.month(yy, mm)을 통해 해당 연도와 월에 대한 달력을 출력합니다."
      ],
      "metadata": {
        "id": "FDZts7lfuayT"
      }
    },
    {
      "cell_type": "code",
      "source": [
        "print(\"2023년 10월 19일 to do list\")     # \"2023년 10월 19일 to do list\"를 출력하는 코드입니다.\n",
        "print(\"9:00-11:00 컴퓨팅적 사고와 기초코딩 수업\")     # \"9:00-11:00 컴퓨팅적 사고와 기초코딩 수업\"을 출력하는 코드입니다.\n",
        "print(\"11:00-12:00 아동건강교육 수업\")     # \"11:00-12:00 아동건강교육 수업\"을 출력하는 코드입니다.\n",
        "print(\"12:00-12:20 집으로 귀가\")     # \"12:00-12:20 집으로 귀가\"를 출력하는 코드입니다.\n",
        "print(\"12:20-1:00 점심식사\")     # \"12:20-1:00 점심식사\"를 출력하는 코드입니다.\n",
        "print(\"1:00-4:00 시험 공부\")     # \"1:00-4:00 시험 공부\"를 출력하는 코드입니다.\n",
        "print(\"5:00-9:00 알바\")     # \"5:00-9:00 알바\"를 출력하는 코드입니다.\n",
        "print(\"9:00-2:00 시험 공부\")     # \"9:00-2:00 시험 공부\"를 출력하는 코드입니다."
      ],
      "metadata": {
        "id": "oaiRQsdSu1pF"
      },
      "execution_count": null,
      "outputs": []
    },
    {
      "cell_type": "markdown",
      "source": [
        " 각 줄은 해당 시간에 어떤 일정이 있는지를 나타내고, 주석을 통해 각 줄의 내용을 설명하였습니다. 예를 들어, \"9:00-11:00 컴퓨팅적 사고와 기초코딩 수업\"은 9시부터 11시까지 \"컴퓨팅적 사고와 기초코딩\" 수업이 있다는 것을 나타냅니다.\n",
        "\n",
        "\n",
        "\n",
        "\n"
      ],
      "metadata": {
        "id": "LI0YxpdyvM37"
      }
    },
    {
      "cell_type": "code",
      "source": [
        "total = 0  # 변수 total을 0으로 초기화합니다.\n",
        "counter = 1  # 변수 counter를 1로 초기화합니다.\n",
        "\n",
        "while counter <= 10:  # counter가 10보다 작거나 같을 때까지 반복합니다.\n",
        "    grade = int(input(\"성적을 입력하시오.\"))  # 사용자로부터 성적을 입력받습니다.\n",
        "    total = grade + total  # 입력받은 성적을 total에 더합니다.\n",
        "    counter = counter + 1  # counter를 1 증가시킵니다.\n",
        "\n",
        "average = total // 10  # total을 10으로 나눈 값을 average에 저장합니다.\n",
        "print(average)  # 평균값을 출력합니다."
      ],
      "metadata": {
        "id": "QX1wdpNZvOxp"
      },
      "execution_count": null,
      "outputs": []
    },
    {
      "cell_type": "markdown",
      "source": [
        "반복문 while과 조건문을 사용하여 성적을 입력받고, 입력받은 성적을 total 변수에 더하고, counter 변수를 이용하여 반복을 제어합니다. 마지막으로 total 값을 10으로 나눈 평균값을 average 변수에 저장하고 출력합니다.\n",
        "\n",
        "\n",
        "\n",
        "\n"
      ],
      "metadata": {
        "id": "BCKx_lClveLE"
      }
    },
    {
      "cell_type": "code",
      "source": [
        "print(\"정수 2개를 입력하시오.: \")  # 사용자에게 정수 2개를 입력하라는 안내 메시지를 출력합니다.\n",
        "x = int(input(\"x의 값을 입력하시오.: \"))  # 사용자로부터 x의 값을 입력받아 정수로 변환하여 변수 x에 저장합니다.\n",
        "y = int(input(\"y의 값을 입력하시오.: \"))  # 사용자로부터 y의 값을 입력받아 정수로 변환하여 변수 y에 저장합니다.\n",
        "sum = x + y  # 변수 x와 y의 값을 더하여 sum에 저장합니다.\n",
        "print(sum)  # sum을 출력합니다.\n",
        "print(f'{x} + {y}의 값은 {sum}이다.')  # f-string을 사용하여 x, y, sum의 값을 출력합니다."
      ],
      "metadata": {
        "id": "kazUaZdkvz2R"
      },
      "execution_count": null,
      "outputs": []
    },
    {
      "cell_type": "markdown",
      "source": [
        "print(\"정수 2개를 입력하시오.: \")은 사용자에게 정수 2개를 입력하라는 안내 메시지를 출력합니다.\n",
        "x = int(input(\"x의 값을 입력하시오.: \"))은 사용자로부터 x의 값을 입력받아 정수로 변환하여 변수 x에 저장합니다.\n",
        "y = int(input(\"y의 값을 입력하시오.: \"))은 사용자로부터 y의 값을 입력받아 정수로 변환하여 변수 y에 저장합니다.\n",
        "sum = x + y은 변수 x와 y의 값을 더하여 sum에 저장합니다.\n",
        "print(sum)은 sum을 출력합니다.\n",
        "print(f'{x} + {y}의 값은 {sum}이다.')은 f-string을 사용하여 x, y, sum의 값을 출력합니다."
      ],
      "metadata": {
        "id": "XARDYKnwwGZ0"
      }
    },
    {
      "cell_type": "code",
      "source": [
        "print(\"상품의 가격을 입력하시오.: \")  # 사용자에게 상품의 가격을 입력하라는 안내 메시지를 출력합니다.\n",
        "price = int(input(\"상품의 가격: \"))  # 사용자로부터 상품의 가격을 입력받아 정수로 변환하여 변수 price에 저장합니다.\n",
        "vat = price * 0.1  # 가격에 0.1을 곱하여 부가세를 계산하고 변수 vat에 저장합니다.\n",
        "print(vat)  # 부가세를 출력합니다.\n",
        "print(f'상품의 가격은 {price}이며, 부가세는 {vat}이다.')  # f-string을 사용하여 상품의 가격과 부가세를 출력합니다."
      ],
      "metadata": {
        "id": "nxXG3zk8wJya"
      },
      "execution_count": null,
      "outputs": []
    },
    {
      "cell_type": "markdown",
      "source": [
        "print(\"상품의 가격을 입력하시오.: \")은 사용자에게 상품의 가격을 입력하라는 안내 메시지를 출력합니다.\n",
        "price = int(input(\"상품의 가격: \"))은 사용자로부터 상품의 가격을 입력받아 정수로 변환하여 변수 price에 저장합니다.\n",
        "vat = price * 0.1은 가격에 0.1을 곱하여 부가세를 계산하고 변수 vat에 저장합니다.\n",
        "print(vat)은 부가세를 출력합니다.\n",
        "print(f'상품의 가격은 {price}이며, 부가세는 {vat}이다.')은 f-string을 사용하여 상품의 가격과 부가세를 출력합니다."
      ],
      "metadata": {
        "id": "7XhErQAmwVjs"
      }
    },
    {
      "cell_type": "code",
      "source": [
        "price = int(input(\"구입금액 입력: \"))  # 사용자로부터 구입금액을 입력받아 정수로 변환하여 변수 price에 저장합니다.\n",
        "\n",
        "if price >= 100000:  # 만약 price의 값이 100000 이상이면\n",
        "    shipping_cost = 0  # 배송료(shipping_cost)는 0원입니다.\n",
        "else:  # 그렇지 않으면\n",
        "    if price >= 20000:  # price의 값이 20000 이상이면\n",
        "        shipping_cost = 3000  # 배송료(shipping_cost)는 3000원입니다.\n",
        "    else:  # 그렇지 않으면\n",
        "        shipping_cost = 5000  # 배송료(shipping_cost)는 5000원입니다.\n",
        "\n",
        "print(f'배송료는 {shipping_cost}원 입니다.')  # F-String을 사용하여 최종 배송료를 출력합니다."
      ],
      "metadata": {
        "id": "YQM6DZ7QwYF0"
      },
      "execution_count": null,
      "outputs": []
    },
    {
      "cell_type": "markdown",
      "source": [
        "price = int(input(\"구입금액 입력: \"))은 사용자로부터 구입금액을 입력받아 정수로 변환하여 변수 price에 저장합니다.\n",
        "if price >= 100000:는 만약 price의 값이 100000 이상이면 다음 문장을 실행합니다.\n",
        "shipping_cost = 0은 배송료 shipping_cost를 0원으로 설정합니다.\n",
        "else:는 위 조건이 만족되지 않을 경우 다음 문장을 실행합니다.\n",
        "if price >= 20000:는 만약 price의 값이 20000 이상이면 다음 문장을 실행합니다.\n",
        "shipping_cost = 3000은 배송료 shipping_cost를 3000원으로 설정합니다.\n",
        "else:는 위 조건이 만족되지 않을 경우 다음 문장을 실행합니다.\n",
        "shipping_cost = 5000은 배송료 shipping_cost를 5000원으로 설정합니다.\n",
        "print(f'배송료는 {shipping_cost}원 입니다.')는 F-String을 사용하여 최종 배송료를 출력합니다.\n",
        "\n",
        "\n",
        "\n"
      ],
      "metadata": {
        "id": "TyW8KTXTwrqA"
      }
    },
    {
      "cell_type": "code",
      "source": [
        "print(\"환영합니다.\")  # 환영 메시지를 출력합니다.\n",
        "print(\"환영합니다.\")  # 환영 메시지를 출력합니다.\n",
        "print(\"환영합니다.\")  # 환영 메시지를 출력합니다.\n",
        "print(\"환영합니다.\")  # 환영 메시지를 출력합니다.\n",
        "print(\"환영합니다.\")  # 환영 메시지를 출력합니다."
      ],
      "metadata": {
        "id": "j52lYntQwvwh"
      },
      "execution_count": null,
      "outputs": []
    },
    {
      "cell_type": "markdown",
      "source": [
        "print(\"환영합니다.\")는 \"환영합니다.\"라는 메시지를 출력합니다.\n",
        "이 코드는 해당 메시지를 5번 반복하여 출력하는 형태로 구성되어 있습니다."
      ],
      "metadata": {
        "id": "IM1ZsIQlw324"
      }
    },
    {
      "cell_type": "code",
      "source": [
        "print(\"환영합니다.\\n\" * 5)  # \"환영합니다.\" 문자열을 5번 반복하여 출력하고, 각 줄마다 줄바꿈 문자를 추가합니다."
      ],
      "metadata": {
        "id": "qxc9cjw9w6AB"
      },
      "execution_count": null,
      "outputs": []
    },
    {
      "cell_type": "markdown",
      "source": [
        "\"환영합니다.\\n\"은 \"환영합니다.\"라는 문자열에 줄바꿈 문자(\\n)를 추가한 것입니다.\n",
        "* 5는 해당 문자열을 5번 반복하여 출력한다는 의미입니다.\n",
        "따라서, \"환영합니다.\\n\" 문자열을 5번 반복하여 출력하면서 각 줄마다 줄바꿈이 추가됩니다.\n",
        "\n",
        "\n",
        "\n"
      ],
      "metadata": {
        "id": "4xq0musmxCDB"
      }
    },
    {
      "cell_type": "code",
      "source": [
        "count = 1  # 변수 count를 1로 초기화합니다.\n",
        "\n",
        "while count <= 5:  # count가 5 이하인 동안 반복합니다.\n",
        "    print(\"(\", count, \")\", \"환영합니다.\")  # count 값을 출력하고, \"환영합니다.\" 메시지를 출력합니다.\n",
        "    count = count + 1  # count 값을 1씩 증가시킵니다."
      ],
      "metadata": {
        "id": "YIwMHnKUxEmr"
      },
      "execution_count": null,
      "outputs": []
    },
    {
      "cell_type": "markdown",
      "source": [
        "count = 1은 변수 count를 1로 초기화합니다.\n",
        "while count <= 5:는 count가 5 이하인 동안 아래의 문장들을 반복합니다.\n",
        "print(\"(\", count, \")\", \"환영합니다.\")는 count 값을 출력하고, \"환영합니다.\" 메시지를 출력합니다.\n",
        "count = count + 1은 count 값을 1씩 증가시킵니다.\n",
        "따라서, 위 코드는 1부터 5까지의 숫자와 \"환영합니다.\" 메시지를 출력하게 됩니다."
      ],
      "metadata": {
        "id": "Yc6KhPH7xOOU"
      }
    },
    {
      "cell_type": "code",
      "source": [
        "x = 0  # 변수 x를 0으로 초기화합니다.\n",
        "\n",
        "while x < 10:  # x가 10보다 작은 동안 반복합니다.\n",
        "    # print(x)  # x 값을 출력합니다. (주석 처리된 코드)\n",
        "    print(x, end=' ')  # x 값을 출력하고, 출력 후에 줄바꿈 대신 공백을 추가합니다.\n",
        "    x = x + 1  # x 값을 1씩 증가시킵니다."
      ],
      "metadata": {
        "id": "zIt3TuWNxSVM"
      },
      "execution_count": null,
      "outputs": []
    },
    {
      "cell_type": "markdown",
      "source": [
        "x = 0은 변수 x를 0으로 초기화합니다.\n",
        "while x < 10:은 x가 10보다 작은 동안 아래의 문장들을 반복합니다.\n",
        "print(x, end=' ')는 x 값을 출력하고, 출력 후에 줄바꿈 대신 공백을 추가합니다.\n",
        "x = x + 1은 x 값을 1씩 증가시킵니다.\n",
        "따라서, 위 코드는 0부터 9까지의 숫자를 공백으로 구분하여 출력하게 됩니다."
      ],
      "metadata": {
        "id": "60SmsXpIypdg"
      }
    },
    {
      "cell_type": "code",
      "source": [
        "x = 1  # 변수 x를 1로 초기화합니다.\n",
        "total = 0  # 변수 total을 0으로 초기화합니다.\n",
        "\n",
        "while x <= 10:  # x가 10 이하인 동안 반복합니다.\n",
        "    total = total + x  # total에 x 값을 더합니다.\n",
        "    # total = total + 1  # total에 1을 더하는 코드입니다. (주석 처리된 코드)\n",
        "    # x = x + 1  # x 값을 1씩 증가시키는 코드입니다. (주석 처리된 코드)\n",
        "    x = x + 1  # x 값을 1씩 증가시킵니다.\n",
        "    print(total)  # total 값을 출력합니다."
      ],
      "metadata": {
        "id": "DFDRu68Txg6l"
      },
      "execution_count": null,
      "outputs": []
    },
    {
      "cell_type": "markdown",
      "source": [
        "x = 1은 변수 x를 1로 초기화합니다.\n",
        "total = 0은 변수 total을 0으로 초기화합니다.\n",
        "while x <= 10:은 x가 10 이하인 동안 아래의 문장들을 반복합니다.\n",
        "total = total + x는 total에 x 값을 더합니다.\n",
        "x = x + 1은 x 값을 1씩 증가시킵니다.\n",
        "print(total)은 total 값을 출력합니다.\n",
        "따라서, 위 코드는 1부터 10까지의 숫자를 더한 결과를 각 단계마다 출력합니다.\n",
        "\n"
      ],
      "metadata": {
        "id": "82SOETQyyaz2"
      }
    },
    {
      "cell_type": "code",
      "source": [
        "for num in range(1, 11):  # 1부터 10까지의 숫자에 대해 반복합니다.\n",
        "    if num % 3 == 0:  # num을 3으로 나눈 나머지가 0인 경우:\n",
        "        print(\"박수\", end=' ')  # \"박수\"를 출력하고 공백을 추가합니다.\n",
        "    else:  # 그 외의 경우:\n",
        "        print(num, end=' ')  # num을 출력하고 공백을 추가합니다."
      ],
      "metadata": {
        "id": "6tEbbYebxtJA"
      },
      "execution_count": null,
      "outputs": []
    },
    {
      "cell_type": "markdown",
      "source": [
        "for num in range(1, 11):은 1부터 10까지의 숫자에 대해 반복합니다.\n",
        "if num % 3 == 0:은 num을 3으로 나눈 나머지가 0인 경우를 체크합니다.\n",
        "print(\"박수\", end=' ')는 \"박수\"를 출력하고 공백을 추가합니다.\n",
        "else:는 그 외의 경우를 의미합니다.\n",
        "print(num, end=' ')는 num을 출력하고 공백을 추가합니다.\n",
        "따라서, 위 코드는 1부터 10까지의 숫자를 출력하면서 3의 배수인 경우에는 \"박수\"를 출력합니다."
      ],
      "metadata": {
        "id": "o6C8pmB1yDy7"
      }
    },
    {
      "cell_type": "code",
      "source": [
        "num = 1  # 변수 num을 1로 초기화합니다.\n",
        "\n",
        "while num <= 30:  # num이 30 이하인 동안 반복합니다.\n",
        "    if num % 3 == 0:  # num을 3으로 나눈 나머지가 0인 경우:\n",
        "        print(\"박수\", end=' ')  # \"박수\"를 출력하고 공백을 추가합니다.\n",
        "    else:  # 그 외의 경우:\n",
        "        print(num, end=' ')  # num을 출력하고 공백을 추가합니다.\n",
        "    num += 1  # num 값을 1 증가시킵니다."
      ],
      "metadata": {
        "id": "T0FVMfSOy9Yj"
      },
      "execution_count": null,
      "outputs": []
    },
    {
      "cell_type": "markdown",
      "source": [
        "num = 1은 변수 num을 1로 초기화합니다.\n",
        "while num <= 30:은 num이 30 이하인 동안 아래의 문장들을 반복합니다.\n",
        "if num % 3 == 0:은 num을 3으로 나눈 나머지가 0인 경우를 체크합니다.\n",
        "print(\"박수\", end=' ')는 \"박수\"를 출력하고 공백을 추가합니다.\n",
        "else:는 그 외의 경우를 의미합니다.\n",
        "print(num, end=' ')는 num을 출력하고 공백을 추가합니다.\n",
        "num += 1은 num 값을 1 증가시킵니다.\n",
        "따라서, 위 코드는 1부터 30까지의 숫자를 출력하면서 3의 배수인 경우에는 \"박수\"를 출력합니다."
      ],
      "metadata": {
        "id": "lru7EI1vzHe9"
      }
    },
    {
      "cell_type": "code",
      "source": [
        "i = 5  # 변수 i를 5로 초기화합니다.\n",
        "factorial = 1  # 변수 factorial을 1로 초기화합니다.\n",
        "\n",
        "while i >= 1:  # i가 1 이상인 동안 반복합니다.\n",
        "    factorial *= i  # factorial에 i 값을 곱합니다.\n",
        "    i -= 1  # i 값을 1 감소시킵니다.\n",
        "    print(factorial)  # factorial 값을 출력합니다."
      ],
      "metadata": {
        "id": "LEUXEXplzKiN"
      },
      "execution_count": null,
      "outputs": []
    },
    {
      "cell_type": "markdown",
      "source": [
        "i = 5는 변수 i를 5로 초기화합니다.\n",
        "factorial = 1은 변수 factorial을 1로 초기화합니다.\n",
        "while i >= 1:은 i가 1 이상인 동안 아래의 문장들을 반복합니다.\n",
        "factorial *= i는 factorial에 i 값을 곱합니다.\n",
        "i -= 1은 i 값을 1 감소시킵니다.\n",
        "print(factorial)은 factorial 값을 출력합니다.\n",
        "따라서, 위 코드는 5부터 1까지의 숫자를 이용하여 팩토리얼 값을 출력합니다."
      ],
      "metadata": {
        "id": "ueq5CZS-zSc9"
      }
    },
    {
      "cell_type": "code",
      "source": [
        "# 계산할 숫자를 입력받습니다.\n",
        "num = int(input(\"팩토리얼을 계산할 숫자를 입력하시오.: \"))\n",
        "\n",
        "# 초기값으로 1을 설정합니다.\n",
        "factorial = 1\n",
        "\n",
        "# 팩토리얼 계산을 위한 반복문인 while입니다.\n",
        "while num >= 1:                # num값이 1보다 크거나 같을 때 아래의 코드를 실행합니다.\n",
        "    factorial = factorial * num  # 현재 num값을 factorial에 곱해줍니다.\n",
        "    num -= 1                     # num값을 1씩 감소시킵니다.\n",
        "\n",
        "    print(factorial)  # factorial 값을 출력합니다."
      ],
      "metadata": {
        "id": "u2Ivh9U4zVWG"
      },
      "execution_count": null,
      "outputs": []
    },
    {
      "cell_type": "markdown",
      "source": [
        "num = int(input(\"팩토리얼을 계산할 숫자를 입력하시오.: \"))은 사용자로부터 숫자를 입력받아 num 변수에 저장합니다.\n",
        "factorial = 1은 초기값으로 factorial 변수를 1로 설정합니다.\n",
        "while num >= 1:은 num 값이 1보다 크거나 같은 동안 아래의 코드를 실행합니다.\n",
        "factorial = factorial * num은 현재 num 값을 factorial에 곱해줍니다.\n",
        "num -= 1은 num 값을 1씩 감소시킵니다.\n",
        "print(factorial)은 factorial 값을 출력합니다.\n",
        "따라서, 위 코드는 입력받은 숫자의 팩토리얼 값을 계산하여 출력합니다. 출력 결과는 팩토리얼 계산 과정에서의 중간값들이 순서대로 출력됩니다."
      ],
      "metadata": {
        "id": "0rkfBtZ-zoQZ"
      }
    },
    {
      "cell_type": "code",
      "source": [
        "dan = int(input(\"구구단에서 몇 단을 출력할까요: \"))  # 사용자로부터 구구단에서 출력할 단을 입력받습니다.\n",
        "\n",
        "for i in range(1, 9):  # 1부터 9 미만까지의 숫자에 대해 반복합니다.\n",
        "    print(dan, \"x\", i, \"=\", dan * i)  # 구구단 계산식을 출력합니다."
      ],
      "metadata": {
        "id": "vy9DDmkA0KV0"
      },
      "execution_count": null,
      "outputs": []
    },
    {
      "cell_type": "markdown",
      "source": [
        "dan = int(input(\"구구단에서 몇 단을 출력할까요: \"))은 사용자로부터 구구단에서 출력할 단을 입력받아 dan 변수에 저장합니다.\n",
        "for i in range(1, 9):은 1부터 9 미만까지의 숫자에 대해 반복합니다.\n",
        "print(dan, \"x\", i, \"=\", dan * i)은 구구단 계산식을 출력합니다. 예를 들어, 2단을 출력하고자 한다면 \"2 x 1 = 2\", \"2 x 2 = 4\", ..., \"2 x 8 = 16\"까지 출력됩니다.\n",
        "따라서, 위 코드는 사용자가 입력한 숫자의 구구단을 출력합니다. 출력 결과는 해당하는 구구단의 계산식들이 순서대로 출력됩니다.\n",
        "\n",
        "\n",
        "\n"
      ],
      "metadata": {
        "id": "0QyDhhOg0SfH"
      }
    },
    {
      "cell_type": "code",
      "source": [
        "dan = int(input(\"구구단에서 몇 단을 출력할래?: \"))  # 사용자로부터 구구단에서 출력할 단을 입력받습니다.\n",
        "i = 1  # 초기값으로 변수 i를 1로 설정합니다.\n",
        "\n",
        "while i <= 9:  # i가 9 이하인 동안 아래의 코드를 반복합니다.\n",
        "    print(dan, \"x\", i, \"=\", dan * 1)  # 구구단 계산식을 출력합니다.\n",
        "    i += 1  # i 값을 1씩 증가시킵니다."
      ],
      "metadata": {
        "id": "DXG_mPb70V9Q"
      },
      "execution_count": null,
      "outputs": []
    },
    {
      "cell_type": "markdown",
      "source": [
        "dan = int(input(\"구구단에서 몇 단을 출력할래?: \"))은 사용자로부터 구구단에서 출력할 단을 입력받아 dan 변수에 저장합니다.\n",
        "i = 1은 초기값으로 변수 i를 1로 설정합니다.\n",
        "while i <= 9:은 i가 9 이하인 동안 아래의 코드를 반복합니다.\n",
        "print(dan, \"x\", i, \"=\", dan * 1)은 구구단 계산식을 출력합니다. 예를 들어, 2단을 출력하고자 한다면 \"2 x 1 = 2\", \"2 x 2 = 4\", ..., \"2 x 9 = 18\"까지 출력됩니다.\n",
        "i += 1은 i 값을 1씩 증가시킵니다.\n",
        "따라서, 위 코드는 사용자가 입력한 숫자의 구구단을 출력합니다. 출력 결과는 해당하는 구구단의 계산식들이 순서대로 출력됩니다."
      ],
      "metadata": {
        "id": "KWEqxCkC0ey4"
      }
    },
    {
      "cell_type": "code",
      "source": [
        "print(\"상품의 가격을 입력하시오.\")\n",
        "price = int(input(\"구입 금액을 입력: \"))\n",
        "\n",
        "if price > 20000:  # 만약 가격이 2만원 이상이라면 아래의 코드를 실행합니다.\n",
        "    shipping_cost = 0  # 배송비를 0으로 설정합니다.\n",
        "    print('구입금액이 2만원 이상입니다.')\n",
        "else:  # 가격이 2만원 이하라면 아래의 코드를 실행합니다.\n",
        "    shipping_cost = 3000  # 배송비를 3000으로 설정합니다.\n",
        "    print('구입금액이 2만원 이하입니다.')\n",
        "\n",
        "print(f'회원님의 배송비는 {shipping_cost}원 입니다.')"
      ],
      "metadata": {
        "id": "kPXVHovO0h8J"
      },
      "execution_count": null,
      "outputs": []
    },
    {
      "cell_type": "markdown",
      "source": [
        "print(\"상품의 가격을 입력하시오.\")는 사용자에게 상품 가격을 입력하라는 안내 메시지를 출력합니다.\n",
        "price = int(input(\"구입 금액을 입력: \"))은 사용자로부터 구입 금액을 입력받아 price 변수에 저장합니다.\n",
        "if price > 20000:는 만약 price가 2만원 이상이라면 아래의 코드를 실행합니다.\n",
        "shipping_cost = 0은 배송비를 0으로 설정합니다.\n",
        "'구입금액이 2만원 이상입니다.'는 구입 금액이 2만원 이상임을 출력합니다.\n",
        "else:는 가격이 2만원 이하라면 아래의 코드를 실행합니다.\n",
        "shipping_cost = 3000은 배송비를 3000으로 설정합니다.\n",
        "'구입금액이 2만원 이하입니다.'는 구입 금액이 2만원 이하임을 출력합니다.\n",
        "print(f'회원님의 배송비는 {shipping_cost}원 입니다.')는 회원님의 배송비를 출력합니다. {shipping_cost} 부분은 shipping_cost 변수의 값을 출력합니다.\n",
        "따라서, 위 코드는 사용자가 입력한 가격에 따라 배송비를 계산하고 출력합니다. 출력 결과는 배송비의 금액과 구입 금액이 2만원 이상인지 이하인지에 대한 안내 메시지가 포함됩니다."
      ],
      "metadata": {
        "id": "IR0tr3zl0u2a"
      }
    },
    {
      "cell_type": "code",
      "source": [
        "print(\"성적을 입력하시오.\")  # 성적을 입력하라는 안내 메시지를 출력합니다.\n",
        "grade = int(input(\"성적입력: \"))  # 사용자로부터 성적을 입력받아 grade 변수에 저장합니다.\n",
        "\n",
        "if grade >= 70:  # 만약 grade가 70 이상이라면 아래의 코드를 실행합니다.\n",
        "    print('70점 이상이므로 합격입니다.')  # 합격 메시지를 출력합니다.\n",
        "    print('축하합니다, 합격입니다.')  # 합격을 축하하는 메시지를 출력합니다.\n",
        "else:  # grade가 70 미만이라면 아래의 코드를 실행합니다.\n",
        "    print(f'70점 이하이므로 불합격입니다.')  # 불합격 메시지를 출력합니다.\n",
        "    print('아쉽군요, 다시 한번 도전하세요.')  # 다시 도전을 장려하는 메시지를 출력합니다."
      ],
      "metadata": {
        "id": "tQAPcdzc0xyL"
      },
      "execution_count": null,
      "outputs": []
    },
    {
      "cell_type": "markdown",
      "source": [
        "print(\"성적을 입력하시오.\")는 사용자에게 성적을 입력하라는 안내 메시지를 출력합니다.\n",
        "grade = int(input(\"성적입력: \"))은 사용자로부터 성적을 입력받아 grade 변수에 저장합니다.\n",
        "if grade >= 70:는 만약 grade가 70 이상이라면 아래의 코드를 실행합니다.\n",
        "'70점 이상이므로 합격입니다.'는 합격 메시지를 출력합니다.\n",
        "'축하합니다, 합격입니다.'는 합격을 축하하는 메시지를 출력합니다.\n",
        "else:는 grade가 70 미만이라면 아래의 코드를 실행합니다.\n",
        "f'70점 이하이므로 불합격입니다.'는 불합격 메시지를 출력합니다.\n",
        "'아쉽군요, 다시 한번 도전하세요.'는 다시 도전을 장려하는 메시지를 출력합니다.\n",
        "따라서, 위 코드는 사용자가 입력한 성적에 따라 합격 또는 불합격 메시지를 출력합니다. 출력 결과는 해당하는 메시지가 출력됩니다."
      ],
      "metadata": {
        "id": "h8mG60Hv09Ts"
      }
    },
    {
      "cell_type": "code",
      "source": [
        "print(\"근무시간을 입력하시오.\")  # 근무시간을 입력하라는 안내 메시지를 출력합니다.\n",
        "work_hour = int(input('근무시간 입력: '))  # 사용자로부터 근무시간을 입력받아 work_hour 변수에 저장합니다.\n",
        "\n",
        "if work_hour > 72:  # 만약 work_hour가 72보다 크다면 아래의 코드를 실행합니다.\n",
        "    print(f'초과근무입니다.')  # 초과근무임을 출력합니다.\n",
        "else:  # work_hour가 72보다 크지 않다면 아래의 코드를 실행합니다.\n",
        "    print(f'정상근무입니다.')  # 정상근무임을 출력합니다."
      ],
      "metadata": {
        "id": "kZ0psaUT0_xu"
      },
      "execution_count": null,
      "outputs": []
    },
    {
      "cell_type": "markdown",
      "source": [
        "print(\"근무시간을 입력하시오.\")는 사용자에게 근무시간을 입력하라는 안내 메시지를 출력합니다.\n",
        "work_hour = int(input('근무시간 입력: '))은 사용자로부터 근무시간을 입력받아 work_hour 변수에 저장합니다.\n",
        "if work_hour > 72:는 만약 work_hour가 72보다 크다면 아래의 코드를 실행합니다.\n",
        "f'초과근무입니다.'는 초과근무임을 출력합니다.\n",
        "else:는 work_hour가 72보다 크지 않다면 아래의 코드를 실행합니다.\n",
        "f'정상근무입니다.'는 정상근무임을 출력합니다.\n",
        "따라서, 위 코드는 사용자가 입력한 근무시간이 72시간을 초과하는지 여부를 판단하여 결과를 출력합니다. 출력 결과는 해당하는 결과 메시지가 출력됩니다."
      ],
      "metadata": {
        "id": "qMO9oZtv1Scn"
      }
    },
    {
      "cell_type": "code",
      "source": [
        "print(\"정수를 입력하시오.\")  # 정수를 입력하라는 안내 메시지를 출력합니다.\n",
        "_num_ = int(input(\"정수 입력: \"))  # 사용자로부터 정수를 입력받아 _num_ 변수에 저장합니다.\n",
        "\n",
        "if (_num_ % 2) != 0:  # 만약 _num_을 2로 나눈 나머지가 0이 아니라면 아래의 코드를 실행합니다.\n",
        "    print(f'입력하신 {_num_}은 홀수입니다.')  # 홀수임을 출력합니다.\n",
        "else:  # _num_을 2로 나눈 나머지가 0이라면 아래의 코드를 실행합니다.\n",
        "    print(f'입력하신 {_num_}은 짝수입니다.')  # 짝수임을 출력합니다."
      ],
      "metadata": {
        "id": "0uEMZAdK1VHg"
      },
      "execution_count": null,
      "outputs": []
    },
    {
      "cell_type": "markdown",
      "source": [
        "print(\"정수를 입력하시오.\")는 사용자에게 정수를 입력하라는 안내 메시지를 출력합니다.\n",
        "_num_ = int(input(\"정수 입력: \"))은 사용자로부터 정수를 입력받아 _num_ 변수에 저장합니다.\n",
        "if (_num_ % 2) != 0:는 만약 _num_을 2로 나눈 나머지가 0이 아니라면 아래의 코드를 실행합니다.\n",
        "f'입력하신 {_num_}은 홀수입니다.'는 홀수임을 출력합니다.\n",
        "else:는 _num_을 2로 나눈 나머지가 0이라면 아래의 코드를 실행합니다.\n",
        "f'입력하신 {_num_}은 짝수입니다.'는 짝수임을 출력합니다.\n",
        "따라서, 위 코드는 사용자가 입력한 정수가 홀수인지 짝수인지를 판단하여 결과를 출력합니다. 출력 결과는 해당하는 결과 메시지가 출력됩니다."
      ],
      "metadata": {
        "id": "J_HTNPMJ1fDA"
      }
    },
    {
      "cell_type": "code",
      "source": [
        "print(\"사용자의 이름과 나이를 입력하시오.\")  # 사용자의 이름과 나이를 입력하라는 안내 메시지를 출력합니다.\n",
        "name = input(\"이름입력: \")  # 사용자로부터 이름을 입력받아 name 변수에 저장합니다.\n",
        "age = int(input(\"나이 입력: \"))  # 사용자로부터 나이를 입력받아 age 변수에 저장합니다.\n",
        "\n",
        "if age > 20:  # 만약 age가 20보다 크다면 아래의 코드를 실행합니다.\n",
        "    print(f'아직도 늦지 않았습니다.')  # 아직도 늦지 않았다는 메시지를 출력합니다.\n",
        "else:  # age가 20보다 크지 않다면 아래의 코드를 실행합니다.\n",
        "    print(f'프로그래밍을 배우는 최적의 나이입니다.')  # 프로그래밍을 배우는 최적의 나이라는 메시지를 출력합니다."
      ],
      "metadata": {
        "id": "NFzuRn9g1g-Y"
      },
      "execution_count": null,
      "outputs": []
    },
    {
      "cell_type": "markdown",
      "source": [
        "print(\"사용자의 이름과 나이를 입력하시오.\")는 사용자의 이름과 나이를 입력하라는 안내 메시지를 출력합니다.\n",
        "name = input(\"이름입력: \")은 사용자로부터 이름을 입력받아 name 변수에 저장합니다.\n",
        "age = int(input(\"나이 입력: \"))은 사용자로부터 나이를 입력받아 age 변수에 저장합니다.\n",
        "if age > 20:는 만약 age가 20보다 크다면 아래의 코드를 실행합니다.\n",
        "f'아직도 늦지 않았습니다.'는 아직도 늦지 않았다는 메시지를 출력합니다.\n",
        "else:는 age가 20보다 크지 않다면 아래의 코드를 실행합니다.\n",
        "f'프로그래밍을 배우는 최적의 나이입니다.'는 프로그래밍을 배우는 최적의 나이라는 메시지를 출력합니다.\n",
        "따라서, 위 코드는 사용자가 입력한 나이에 따라 메시지를 출력합니다. 만약 나이가 20보다 크면 \"아직도 늦지 않았습니다.\"라는 메시지가 출력되고, 그렇지 않으면 \"프로그래밍을 배우는 최적의 나이입니다.\"라는 메시지가 출력됩니다."
      ],
      "metadata": {
        "id": "60S8EO5M1ppT"
      }
    }
  ]
}